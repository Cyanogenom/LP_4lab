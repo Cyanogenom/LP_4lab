{
 "cells": [
  {
   "cell_type": "code",
   "execution_count": 1,
   "metadata": {
    "collapsed": true
   },
   "outputs": [],
   "source": [
    "import re"
   ]
  },
  {
   "cell_type": "code",
   "execution_count": 21,
   "metadata": {
    "collapsed": true
   },
   "outputs": [],
   "source": [
    "find_exp_dict = {\n",
    "    'START': {\n",
    "        'fstart': 'END',\n",
    "        # иначе выходим\n",
    "    },\n",
    "    'END': {\n",
    "        'fend': 'START',\n",
    "    }\n",
    "}"
   ]
  },
  {
   "cell_type": "code",
   "execution_count": 52,
   "metadata": {},
   "outputs": [],
   "source": [
    "# поиск из полученной строки выражений - на выходе список EXPRESSIONS\n",
    "rstart = re.compile(r'\\\\begin\\{(\\w+)\\}')\n",
    "rend = re.compile(r'\\\\end\\{(\\w+)\\}')\n",
    "types_list = ['test', 'some', 'types', 'equation', 'split', 'eqnarray']\n",
    "exp_type = None\n",
    "def find_expressions(s: str, VT: dict, stat='START') -> list:\n",
    "    expressions = []\n",
    "    expr = ''\n",
    "    data = ''\n",
    "    for el in s:\n",
    "        data += el\n",
    "        #print(stat, data)\n",
    "        if stat == 'START':\n",
    "            #print(rstart.findall(data))\n",
    "            if (rstart.findall(data) and rstart.findall(data)[0] in types_list) or data == '$':\n",
    "                exp_type = rstart.findall(data)[0]\n",
    "                stat = VT[stat]['fstart']\n",
    "                data = ''\n",
    "        if stat == 'END':\n",
    "            if (rend.findall(data) and rend.findall(data)[0] == exp_type) or data == '$':\n",
    "                stat = VT[stat]['fend']\n",
    "                if rend.findall(data):\n",
    "                    data = data.split(r'\\end')[0]\n",
    "                else:\n",
    "                    data = data[:-1]\n",
    "                expressions.append(data)\n",
    "                exp_type = None\n",
    "                data = ''\n",
    "    return expressions"
   ]
  },
  {
   "cell_type": "code",
   "execution_count": 53,
   "metadata": {
    "collapsed": true
   },
   "outputs": [],
   "source": [
    "sss = r\"\"\"\n",
    "\\begin{equation}\\label{eq:1} \n",
    "F_1 = -F_2 \n",
    "\\end{equation}\n",
    "\"\"\""
   ]
  },
  {
   "cell_type": "code",
   "execution_count": 58,
   "metadata": {},
   "outputs": [
    {
     "data": {
      "text/plain": [
       "['\\\\label{eq:1} \\nF_1 = -F_2 \\n']"
      ]
     },
     "execution_count": 58,
     "metadata": {},
     "output_type": "execute_result"
    }
   ],
   "source": [
    "find_expressions(sss, find_exp_dict)"
   ]
  },
  {
   "cell_type": "code",
   "execution_count": 54,
   "metadata": {
    "collapsed": true
   },
   "outputs": [],
   "source": [
    "sss2 = r\"\"\"\n",
    "\\begin{split} \n",
    "\\Psi = & \\cos kz + i\\sin kz + {} \\\\ \n",
    "& {} + \\frac{f(\\theta)}{r} \n",
    "(\\cos kr + i\\sin kr) \n",
    "\\end{split}\n",
    "\\begin{eqnarray} \n",
    "x & = & a + b + c + d + e + f + g. \n",
    "\\end{eqnarray}\n",
    "\"\"\""
   ]
  },
  {
   "cell_type": "code",
   "execution_count": 55,
   "metadata": {
    "scrolled": false
   },
   "outputs": [
    {
     "data": {
      "text/plain": [
       "[' \\n\\\\Psi = & \\\\cos kz + i\\\\sin kz + {} \\\\\\\\ \\n& {} + \\\\frac{f(\\\\theta)}{r} \\n(\\\\cos kr + i\\\\sin kr) \\n',\n",
       " ' \\nx & = & a + b + c + d + e + f + g. \\n']"
      ]
     },
     "execution_count": 55,
     "metadata": {},
     "output_type": "execute_result"
    }
   ],
   "source": [
    "find_expressions(sss2, find_exp_dict)"
   ]
  },
  {
   "cell_type": "code",
   "execution_count": 56,
   "metadata": {},
   "outputs": [
    {
     "name": "stdout",
     "output_type": "stream",
     "text": [
      " \n",
      "\\Psi = & \\cos kz + i\\sin kz + {} \\\\ \n",
      "& {} + \\frac{f(\\theta)}{r} \n",
      "(\\cos kr + i\\sin kr) \n",
      "\n",
      " \n",
      "x & = & a + b + c + d + e + f + g. \n",
      "\n"
     ]
    }
   ],
   "source": [
    "for i in find_expressions(sss2, find_exp_dict):\n",
    "    print(i)"
   ]
  },
  {
   "cell_type": "code",
   "execution_count": null,
   "metadata": {
    "collapsed": true
   },
   "outputs": [],
   "source": []
  },
  {
   "cell_type": "code",
   "execution_count": null,
   "metadata": {
    "collapsed": true
   },
   "outputs": [],
   "source": [
    "parse_expressions_dict = {\n",
    "    \n",
    "}"
   ]
  },
  {
   "cell_type": "code",
   "execution_count": null,
   "metadata": {
    "collapsed": true
   },
   "outputs": [],
   "source": [
    "special_symbols = set()\n",
    "special_symbols = {'\\epsilon', '\\label', '\\pi', '\\limits', '\\infty'}\n",
    "lateh_operations = set()\n",
    "lateh_operations = {'\\int', '\\sum', '\\prov', '\\cos', '\\sin', '\\tan', '\\cot', '\\log', '\\frac', '\\sqrt'}\n",
    "\n",
    "# вытаскиваем функции из EXPRESSIONS (будем запускать рекурсивно)\n",
    "def parse_expression(s: str, stat: dict) -> list:\n",
    "    "
   ]
  },
  {
   "cell_type": "code",
   "execution_count": null,
   "metadata": {
    "collapsed": true
   },
   "outputs": [],
   "source": [
    "def find_variables(l: list) -> dict:\n",
    "    #ищет переменные из списка и просит задать для них значения\n",
    "    #на выходе - словарь переменная-значение\n",
    "    variables = []\n",
    "    for i in l:   #тут не учитывается, что операции м.б. с _ и ^\n",
    "        if i not in lateh_operations and i not in special_symbols and i not in digits:\n",
    "            variables.append(i)\n",
    "            \n",
    "    d = dict()        \n",
    "    for i in variabeles:\n",
    "        d[i] = input('Please, input value for varible %s: ' % i)\n",
    "        \n",
    "    return d\n",
    "    \n",
    "def get_result(d: dict ):\n",
    "    #составляет формулу и вычисляет\n",
    "    #грубо говоря:"
   ]
  }
 ],
 "metadata": {
  "kernelspec": {
   "display_name": "Python 3",
   "language": "python",
   "name": "python3"
  },
  "language_info": {
   "codemirror_mode": {
    "name": "ipython",
    "version": 3
   },
   "file_extension": ".py",
   "mimetype": "text/x-python",
   "name": "python",
   "nbconvert_exporter": "python",
   "pygments_lexer": "ipython3",
   "version": "3.6.3"
  }
 },
 "nbformat": 4,
 "nbformat_minor": 2
}
